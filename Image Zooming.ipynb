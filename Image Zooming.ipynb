{
 "cells": [
  {
   "cell_type": "code",
   "execution_count": 1,
   "metadata": {},
   "outputs": [],
   "source": [
    "import cv2 as cv\n",
    "import numpy as np\n",
    "import matplotlib.pyplot as plt\n",
    "import math\n",
    "%matplotlib inline"
   ]
  },
  {
   "cell_type": "markdown",
   "metadata": {},
   "source": [
    "***Image Zooming Using Nearest Neighbor Method***"
   ]
  },
  {
   "cell_type": "code",
   "execution_count": 2,
   "metadata": {},
   "outputs": [],
   "source": [
    "def nearest_neighbhor(image, scale):\n",
    "    \"\"\"\n",
    "    image= image to be zoomed (as an array)\n",
    "    scale= factor to zoom the image (as a float)\n",
    "    output the zoomed image as an array\n",
    "    \"\"\"\n",
    "    h,w,d = image.shape\n",
    "    zoomed_h, zoomed_w = h*scale, w*scale \n",
    "    output = np.zeros((zoomed_h, zoomed_w, d), np.uint8)\n",
    "    for i in range(zoomed_h):\n",
    "        for j in range(zoomed_w):\n",
    "            output[i,j]=image[math.floor(i/scale), math.floor(j/scale)]\n",
    "    return output;\n"
   ]
  },
  {
   "cell_type": "markdown",
   "metadata": {},
   "source": [
    "***Image Zooming with Bilinear Method***"
   ]
  },
  {
   "cell_type": "code",
   "execution_count": null,
   "metadata": {},
   "outputs": [],
   "source": [
    "def BiLinear_interpolation(img,scale):\n",
    "    \"\"\"\n",
    "    image= image to be zoomed (as an array)\n",
    "    scale= factor to zoom the image (as a float)\n",
    "    output the zoomed image as an array\n",
    "    \"\"\"\n",
    "    h,w,d=img.shape\n",
    "    H = h*scale\n",
    "    W = w*scale\n",
    "    img=np.pad(img,((0,1),(0,1),(0,0)),'constant')\n",
    "    output=np.zeros((H,W,d),dtype=np.uint8)\n",
    "    for i in range(H):\n",
    "        for j in range(W):\n",
    "            scrx, scry=(i+1)*(h/H)-1, (j+1)*(w/W)-1\n",
    "            x, y =math.floor(scrx), math.floor(scry)\n",
    "            u, v=scrx-x, scry-y\n",
    "            output[i,j]=(1-u)*(1-v)*img[x,y]+u*(1-v)*img[x+1,y]+(1-u)*v*img[x,y+1]+u*v*img[x+1,y+1]\n",
    "    return output"
   ]
  },
  {
   "cell_type": "code",
   "execution_count": null,
   "metadata": {},
   "outputs": [],
   "source": [
    "def SSD(img1,img2):\n",
    "    assert img1.shape == img2.shape\n",
    "    h, w, c = img1.shape\n",
    "    num = np.sum((np.array(img2)-np.array(img1))**2)\n",
    "    a = h*w*c\n",
    "    return float(num)/float(a)"
   ]
  },
  {
   "cell_type": "code",
   "execution_count": null,
   "metadata": {},
   "outputs": [],
   "source": []
  }
 ],
 "metadata": {
  "kernelspec": {
   "display_name": "Python 3",
   "language": "python",
   "name": "python3"
  },
  "language_info": {
   "codemirror_mode": {
    "name": "ipython",
    "version": 3
   },
   "file_extension": ".py",
   "mimetype": "text/x-python",
   "name": "python",
   "nbconvert_exporter": "python",
   "pygments_lexer": "ipython3",
   "version": "3.7.9"
  }
 },
 "nbformat": 4,
 "nbformat_minor": 4
}
