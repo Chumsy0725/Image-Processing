{
 "cells": [
  {
   "cell_type": "markdown",
   "metadata": {},
   "source": [
    "***Counting Rice Grains in a Picture***"
   ]
  },
  {
   "cell_type": "code",
   "execution_count": 2,
   "metadata": {},
   "outputs": [],
   "source": [
    "%matplotlib inline\n",
    "import numpy as np\n",
    "import matplotlib.pyplot as plt\n",
    "import cv2 as cv\n",
    "%config IPCompleter.greedy=True"
   ]
  },
  {
   "cell_type": "code",
   "execution_count": 4,
   "metadata": {},
   "outputs": [
    {
     "name": "stdout",
     "output_type": "stream",
     "text": [
      "Number of Grains:  100\n"
     ]
    },
    {
     "data": {
      "text/plain": [
       "True"
      ]
     },
     "execution_count": 4,
     "metadata": {},
     "output_type": "execute_result"
    }
   ],
   "source": [
    "img = cv.imread(\"rice.png\", cv.IMREAD_GRAYSCALE)\n",
    "\n",
    "#Binary Segmentation\n",
    "adapt_thresh = th2 = cv.adaptiveThreshold(img,255,cv.ADAPTIVE_THRESH_MEAN_C,cv.THRESH_BINARY,51,-20)\n",
    "#To get rid of Non-Uniform illumination distribution in the image\n",
    "cv.imwrite('adapt_thresh.png',adapt_thresh)\n",
    "\n",
    "# Morphological Erosion - to clean up the binary image\n",
    "ksize = 3\n",
    "kernel = cv.getStructuringElement(cv.MORPH_RECT,(ksize,ksize))\n",
    "eroded_img = cv.erode(adapt_thresh, kernel)\n",
    "cv.imwrite('eroded.png',eroded_img)\n",
    "\n",
    "#Connected components Analysis - to determine the number of grains\n",
    "num_labels, labels = cv.connectedComponents(eroded_img)\n",
    "cv.imwrite('labeled.png',labels)\n",
    "print(\"Number of Grains: \", num_labels-1) #since background is one object in connected component analysis\n",
    "\n",
    "#Colour Map - to show the components\n",
    "(minVal, maxVal, minLoc, maxLoc) = cv.minMaxLoc(labels) # finding the locations on the image..\n",
    "img_labeled = (255/(maxVal-minVal)) * (labels - minVal) # Normalizing the image\n",
    "ColorMap = cv.applyColorMap(img_labeled.astype('uint8'), cv.COLORMAP_RAINBOW)\n",
    "ColorMap[labeledImg==0] = 0 # Making the background black\n",
    "cv.imwrite('ColorMap.png',ColorMap)"
   ]
  },
  {
   "cell_type": "code",
   "execution_count": null,
   "metadata": {},
   "outputs": [],
   "source": []
  }
 ],
 "metadata": {
  "kernelspec": {
   "display_name": "Python 3",
   "language": "python",
   "name": "python3"
  },
  "language_info": {
   "codemirror_mode": {
    "name": "ipython",
    "version": 3
   },
   "file_extension": ".py",
   "mimetype": "text/x-python",
   "name": "python",
   "nbconvert_exporter": "python",
   "pygments_lexer": "ipython3",
   "version": "3.7.9"
  }
 },
 "nbformat": 4,
 "nbformat_minor": 4
}
